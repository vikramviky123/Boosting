{
 "cells": [
  {
   "cell_type": "code",
   "execution_count": 1,
   "metadata": {},
   "outputs": [],
   "source": [
    "import pandas as pd\n",
    "import numpy as np\n",
    "\n",
    "import matplotlib.pyplot as plt\n",
    "import seaborn as sns\n",
    "\n",
    "%matplotlib inline"
   ]
  },
  {
   "cell_type": "code",
   "execution_count": 2,
   "metadata": {},
   "outputs": [
    {
     "name": "stdout",
     "output_type": "stream",
     "text": [
      "Zip file Extracted\n"
     ]
    }
   ],
   "source": [
    "import zipfile\n",
    "\n",
    "zip_file_path = \"dataset/playground-series-s3e3.zip\"\n",
    "extracted_path = \"dataset/\"\n",
    "\n",
    "with zipfile.ZipFile(zip_file_path,\"r\") as zip_ref:\n",
    "    zip_ref.extractall(extracted_path)\n",
    "    \n",
    "print(\"Zip file Extracted\")"
   ]
  },
  {
   "cell_type": "code",
   "execution_count": 3,
   "metadata": {},
   "outputs": [
    {
     "data": {
      "text/html": [
       "<div>\n",
       "<style scoped>\n",
       "    .dataframe tbody tr th:only-of-type {\n",
       "        vertical-align: middle;\n",
       "    }\n",
       "\n",
       "    .dataframe tbody tr th {\n",
       "        vertical-align: top;\n",
       "    }\n",
       "\n",
       "    .dataframe thead th {\n",
       "        text-align: right;\n",
       "    }\n",
       "</style>\n",
       "<table border=\"1\" class=\"dataframe\">\n",
       "  <thead>\n",
       "    <tr style=\"text-align: right;\">\n",
       "      <th></th>\n",
       "      <th>id</th>\n",
       "      <th>Age</th>\n",
       "      <th>BusinessTravel</th>\n",
       "      <th>DailyRate</th>\n",
       "      <th>Department</th>\n",
       "      <th>DistanceFromHome</th>\n",
       "      <th>Education</th>\n",
       "      <th>EducationField</th>\n",
       "      <th>EmployeeCount</th>\n",
       "      <th>EnvironmentSatisfaction</th>\n",
       "      <th>...</th>\n",
       "      <th>StandardHours</th>\n",
       "      <th>StockOptionLevel</th>\n",
       "      <th>TotalWorkingYears</th>\n",
       "      <th>TrainingTimesLastYear</th>\n",
       "      <th>WorkLifeBalance</th>\n",
       "      <th>YearsAtCompany</th>\n",
       "      <th>YearsInCurrentRole</th>\n",
       "      <th>YearsSinceLastPromotion</th>\n",
       "      <th>YearsWithCurrManager</th>\n",
       "      <th>Attrition</th>\n",
       "    </tr>\n",
       "  </thead>\n",
       "  <tbody>\n",
       "    <tr>\n",
       "      <th>0</th>\n",
       "      <td>0</td>\n",
       "      <td>36</td>\n",
       "      <td>Travel_Frequently</td>\n",
       "      <td>599</td>\n",
       "      <td>Research &amp; Development</td>\n",
       "      <td>24</td>\n",
       "      <td>3</td>\n",
       "      <td>Medical</td>\n",
       "      <td>1</td>\n",
       "      <td>4</td>\n",
       "      <td>...</td>\n",
       "      <td>80</td>\n",
       "      <td>1</td>\n",
       "      <td>10</td>\n",
       "      <td>2</td>\n",
       "      <td>3</td>\n",
       "      <td>10</td>\n",
       "      <td>0</td>\n",
       "      <td>7</td>\n",
       "      <td>8</td>\n",
       "      <td>0</td>\n",
       "    </tr>\n",
       "    <tr>\n",
       "      <th>1</th>\n",
       "      <td>1</td>\n",
       "      <td>35</td>\n",
       "      <td>Travel_Rarely</td>\n",
       "      <td>921</td>\n",
       "      <td>Sales</td>\n",
       "      <td>8</td>\n",
       "      <td>3</td>\n",
       "      <td>Other</td>\n",
       "      <td>1</td>\n",
       "      <td>1</td>\n",
       "      <td>...</td>\n",
       "      <td>80</td>\n",
       "      <td>1</td>\n",
       "      <td>4</td>\n",
       "      <td>3</td>\n",
       "      <td>3</td>\n",
       "      <td>4</td>\n",
       "      <td>2</td>\n",
       "      <td>0</td>\n",
       "      <td>3</td>\n",
       "      <td>0</td>\n",
       "    </tr>\n",
       "    <tr>\n",
       "      <th>2</th>\n",
       "      <td>2</td>\n",
       "      <td>32</td>\n",
       "      <td>Travel_Rarely</td>\n",
       "      <td>718</td>\n",
       "      <td>Sales</td>\n",
       "      <td>26</td>\n",
       "      <td>3</td>\n",
       "      <td>Marketing</td>\n",
       "      <td>1</td>\n",
       "      <td>3</td>\n",
       "      <td>...</td>\n",
       "      <td>80</td>\n",
       "      <td>2</td>\n",
       "      <td>4</td>\n",
       "      <td>3</td>\n",
       "      <td>3</td>\n",
       "      <td>3</td>\n",
       "      <td>2</td>\n",
       "      <td>1</td>\n",
       "      <td>2</td>\n",
       "      <td>0</td>\n",
       "    </tr>\n",
       "    <tr>\n",
       "      <th>3</th>\n",
       "      <td>3</td>\n",
       "      <td>38</td>\n",
       "      <td>Travel_Rarely</td>\n",
       "      <td>1488</td>\n",
       "      <td>Research &amp; Development</td>\n",
       "      <td>2</td>\n",
       "      <td>3</td>\n",
       "      <td>Medical</td>\n",
       "      <td>1</td>\n",
       "      <td>3</td>\n",
       "      <td>...</td>\n",
       "      <td>80</td>\n",
       "      <td>0</td>\n",
       "      <td>15</td>\n",
       "      <td>1</td>\n",
       "      <td>1</td>\n",
       "      <td>6</td>\n",
       "      <td>0</td>\n",
       "      <td>0</td>\n",
       "      <td>2</td>\n",
       "      <td>0</td>\n",
       "    </tr>\n",
       "    <tr>\n",
       "      <th>4</th>\n",
       "      <td>4</td>\n",
       "      <td>50</td>\n",
       "      <td>Travel_Rarely</td>\n",
       "      <td>1017</td>\n",
       "      <td>Research &amp; Development</td>\n",
       "      <td>5</td>\n",
       "      <td>4</td>\n",
       "      <td>Medical</td>\n",
       "      <td>1</td>\n",
       "      <td>2</td>\n",
       "      <td>...</td>\n",
       "      <td>80</td>\n",
       "      <td>0</td>\n",
       "      <td>31</td>\n",
       "      <td>0</td>\n",
       "      <td>3</td>\n",
       "      <td>31</td>\n",
       "      <td>14</td>\n",
       "      <td>4</td>\n",
       "      <td>10</td>\n",
       "      <td>1</td>\n",
       "    </tr>\n",
       "  </tbody>\n",
       "</table>\n",
       "<p>5 rows × 35 columns</p>\n",
       "</div>"
      ],
      "text/plain": [
       "   id  Age     BusinessTravel  DailyRate              Department  \\\n",
       "0   0   36  Travel_Frequently        599  Research & Development   \n",
       "1   1   35      Travel_Rarely        921                   Sales   \n",
       "2   2   32      Travel_Rarely        718                   Sales   \n",
       "3   3   38      Travel_Rarely       1488  Research & Development   \n",
       "4   4   50      Travel_Rarely       1017  Research & Development   \n",
       "\n",
       "   DistanceFromHome  Education EducationField  EmployeeCount  \\\n",
       "0                24          3        Medical              1   \n",
       "1                 8          3          Other              1   \n",
       "2                26          3      Marketing              1   \n",
       "3                 2          3        Medical              1   \n",
       "4                 5          4        Medical              1   \n",
       "\n",
       "   EnvironmentSatisfaction  ... StandardHours  StockOptionLevel  \\\n",
       "0                        4  ...            80                 1   \n",
       "1                        1  ...            80                 1   \n",
       "2                        3  ...            80                 2   \n",
       "3                        3  ...            80                 0   \n",
       "4                        2  ...            80                 0   \n",
       "\n",
       "   TotalWorkingYears  TrainingTimesLastYear WorkLifeBalance  YearsAtCompany  \\\n",
       "0                 10                      2               3              10   \n",
       "1                  4                      3               3               4   \n",
       "2                  4                      3               3               3   \n",
       "3                 15                      1               1               6   \n",
       "4                 31                      0               3              31   \n",
       "\n",
       "  YearsInCurrentRole  YearsSinceLastPromotion  YearsWithCurrManager  Attrition  \n",
       "0                  0                        7                     8          0  \n",
       "1                  2                        0                     3          0  \n",
       "2                  2                        1                     2          0  \n",
       "3                  0                        0                     2          0  \n",
       "4                 14                        4                    10          1  \n",
       "\n",
       "[5 rows x 35 columns]"
      ]
     },
     "execution_count": 3,
     "metadata": {},
     "output_type": "execute_result"
    }
   ],
   "source": [
    "df = pd.read_csv(\"dataset/train.csv\")\n",
    "test = pd.read_csv(\"dataset/test.csv\")\n",
    "df.head()"
   ]
  },
  {
   "cell_type": "code",
   "execution_count": 4,
   "metadata": {},
   "outputs": [],
   "source": [
    "from sklearn.preprocessing import LabelEncoder\n",
    "le = LabelEncoder()\n",
    "for col in df.columns:\n",
    "    if df[col].dtype == \"O\":\n",
    "        le.fit(df[col])\n",
    "        df[col] = le.transform(df[col])\n",
    "        test[col] = le.transform(test[col])"
   ]
  },
  {
   "cell_type": "code",
   "execution_count": 5,
   "metadata": {},
   "outputs": [],
   "source": [
    "x_cols = [col for col in df.columns if col not in [\"id\",\"Attrition\"]]\n",
    "y_cols = [\"Attrition\"]"
   ]
  },
  {
   "cell_type": "code",
   "execution_count": 6,
   "metadata": {},
   "outputs": [],
   "source": [
    "att = df[df[\"Attrition\"] == 1]\n",
    "dff = pd.concat([df,att,att,att], axis = 0)\n",
    "\n",
    "# Shuffle the DataFrame\n",
    "shuffled_df = dff.sample(frac=1.0, random_state=42)\n",
    "\n",
    "# Reset the index if needed\n",
    "shuffled_df.reset_index(drop=True, inplace=True)\n"
   ]
  },
  {
   "cell_type": "code",
   "execution_count": 7,
   "metadata": {},
   "outputs": [],
   "source": [
    "X = df[x_cols]\n",
    "y = df[y_cols]"
   ]
  },
  {
   "cell_type": "code",
   "execution_count": 8,
   "metadata": {},
   "outputs": [],
   "source": [
    "Xd = shuffled_df[x_cols]\n",
    "xtest = test[x_cols]\n",
    "yd = shuffled_df[y_cols]"
   ]
  },
  {
   "cell_type": "code",
   "execution_count": 9,
   "metadata": {},
   "outputs": [],
   "source": [
    "from sklearn.model_selection import StratifiedKFold, GridSearchCV\n",
    "from sklearn.ensemble import AdaBoostClassifier, HistGradientBoostingClassifier\n",
    "from sklearn.tree import DecisionTreeClassifier\n",
    "from sklearn.metrics import accuracy_score, precision_score, recall_score, f1_score, roc_auc_score"
   ]
  },
  {
   "cell_type": "code",
   "execution_count": 10,
   "metadata": {},
   "outputs": [],
   "source": [
    "import warnings\n",
    "warnings.filterwarnings(\"ignore\")"
   ]
  },
  {
   "cell_type": "code",
   "execution_count": 11,
   "metadata": {},
   "outputs": [],
   "source": [
    "import xgboost as xgb\n",
    "import lightgbm as lgbm\n",
    "from lightgbm import early_stopping, log_evaluation\n",
    "import optuna"
   ]
  },
  {
   "cell_type": "code",
   "execution_count": 97,
   "metadata": {},
   "outputs": [],
   "source": [
    "def cross_validation(X,y,estimator,n_splits, xtest=None):\n",
    "\n",
    "    skf = StratifiedKFold(n_splits=n_splits, random_state=42, shuffle=True)\n",
    "\n",
    "    acc_scr = []\n",
    "    f1_scr = []\n",
    "    auc_scr = []\n",
    "    \n",
    "    if xtest is not None:\n",
    "        preds = np.zeros(len(xtest))\n",
    "    else:\n",
    "        preds = None\n",
    "\n",
    "    for i, (train_index, test_index) in enumerate(skf.split(X, y)):\n",
    "        X_train, X_test = X.iloc[train_index], X.iloc[test_index]\n",
    "        y_train, y_test = y.iloc[train_index], y.iloc[test_index]\n",
    "\n",
    "        estimator.fit(X_train, y_train)\n",
    "\n",
    "        y_preds = estimator.predict(X_test)\n",
    "\n",
    "        if xtest is not None:\n",
    "            test_preds = estimator.predict_proba(xtest)[:, 1] / n_splits\n",
    "            if preds is None:\n",
    "                preds = test_preds\n",
    "            else:\n",
    "                preds += test_preds\n",
    "\n",
    "        acc_scr.append(accuracy_score(y_test, y_preds))\n",
    "        f1_scr.append(f1_score(y_test, y_preds))\n",
    "        auc_scr.append(roc_auc_score(y_test, estimator.predict_proba(X_test)[:, 1]))\n",
    "\n",
    "    avg_acc = round(np.mean(acc_scr), 4)\n",
    "    avg_f1 = round(np.mean(f1_scr), 4)\n",
    "    avg_roc = round(np.mean(auc_scr), 4)\n",
    "\n",
    "    print(f\"Average accuracy score of {n_splits} is : {avg_acc}\")\n",
    "    print(f\"Average f1 score of {n_splits} is       : {avg_f1}\")\n",
    "    print(f\"Average roc score of {n_splits} is      : {avg_roc}\")\n",
    "\n",
    "    return preds"
   ]
  },
  {
   "cell_type": "markdown",
   "metadata": {},
   "source": [
    "        \"verbose\" :-1,\n",
    "        \"force_col_wise\":True,\n",
    "        \"boosting_type\": trial.suggest_categorical('boosting_type',['gbdt','dart','goss']),\n",
    "        'num_iterations' : trial.suggest_int('num_iterations',200,500,step=50),\n",
    "        \"num_leaves\": trial.suggest_int(\"num_leaves\", 3, 10),\n",
    "        \"max_depth\": trial.suggest_int(\"max_depth\", 3, 5),\n",
    "        \"learning_rate\": trial.suggest_float(\"learning_rate\", 0.001, 0.5,log=True),\n",
    "        'scale_pos_weight': trial.suggest_int('scale_pos_weight',2,7),\n",
    "        'colsample_bytree' :trial.suggest_float('colsample_bytree',0.5,0.8,step=0.1),\n",
    "        'reg_alpha' : trial.suggest_int('reg_alpha',2,10,step=1),\n",
    "        'reg_lambda' : trial.suggest_int('reg_lambda',2,10,step=1),\n",
    "        #\"bagging_fraction\": trial.suggest_float(\"bagging_fraction\", 0.5, 1.0),\n",
    "        #\"bagging_freq\": trial.suggest_int(\"bagging_freq\", 1, 8),\n",
    "        'n_jobs' : -1,\n",
    "        'metric': 'AUC',\n",
    "        'verbose': 0  "
   ]
  },
  {
   "cell_type": "code",
   "execution_count": 92,
   "metadata": {},
   "outputs": [
    {
     "name": "stdout",
     "output_type": "stream",
     "text": [
      "CPU times: total: 0 ns\n",
      "Wall time: 998 µs\n"
     ]
    }
   ],
   "source": [
    "%%time\n",
    "\n",
    "base_params = { \"objective\": [\"binary\"],\n",
    "                    \"metric\": [\"auc\"],\n",
    "                    \"verbose\": [-100],\n",
    "                    \"n_jobs\": [-1],\n",
    "                    \"random_state\" : [42],\n",
    "                    \"force_col_wise\":[True]\n",
    "                    }\n",
    "\n",
    "\n",
    "\n",
    "params = {\n",
    "            \"boosting_type\": ['gbdt'],\n",
    "            \n",
    "            # alias reg_alpha\n",
    "            \"reg_alpha\": [0],\n",
    "            # alias reg_lmabda\n",
    "            \"reg_lambda\": [0.001],\n",
    "            \"learning_rate\": [0.01],\n",
    "            \n",
    "            # Num of boosting rounds\n",
    "            \"n_estimators\": [500],\n",
    "            # maximum number of leaves | increase for better score/will overfit default = 31\n",
    "            \"num_leaves\": [15],\n",
    "            # depth of tree, -1 for full depth\n",
    "            \"max_depth\": [5],\n",
    "            # Min samples in leaf for split\n",
    "            \"min_child_samples\": [15],\n",
    "            'scale_pos_weight': [7],\n",
    "            \n",
    "            # alias feature_fraction, basically number of columns\n",
    "            \"colsample_bytree\": [0.5],\n",
    "            # alias bagging_fraction, fraction of sample of whole train data\n",
    "            \"subsample\": [0.3],\n",
    "            # alias bagging_freq after how many iters get smaple again\n",
    "            \"subsample_freq\": [3]\n",
    "}\n",
    "\n",
    "params.update(base_params)\n",
    "\n",
    "lgbm_clf = lgbm.LGBMClassifier(random_state=42)\n",
    "    \n",
    "grid_lgbm = GridSearchCV(estimator=lgbm_clf,\n",
    "                            param_grid=params,\n",
    "                            cv=5,\n",
    "                            verbose=True,\n",
    "                            scoring='roc_auc')\n"
   ]
  },
  {
   "cell_type": "code",
   "execution_count": 93,
   "metadata": {},
   "outputs": [
    {
     "name": "stdout",
     "output_type": "stream",
     "text": [
      "Fitting 5 folds for each of 1 candidates, totalling 5 fits\n"
     ]
    },
    {
     "data": {
      "text/html": [
       "<style>#sk-container-id-25 {color: black;background-color: white;}#sk-container-id-25 pre{padding: 0;}#sk-container-id-25 div.sk-toggleable {background-color: white;}#sk-container-id-25 label.sk-toggleable__label {cursor: pointer;display: block;width: 100%;margin-bottom: 0;padding: 0.3em;box-sizing: border-box;text-align: center;}#sk-container-id-25 label.sk-toggleable__label-arrow:before {content: \"▸\";float: left;margin-right: 0.25em;color: #696969;}#sk-container-id-25 label.sk-toggleable__label-arrow:hover:before {color: black;}#sk-container-id-25 div.sk-estimator:hover label.sk-toggleable__label-arrow:before {color: black;}#sk-container-id-25 div.sk-toggleable__content {max-height: 0;max-width: 0;overflow: hidden;text-align: left;background-color: #f0f8ff;}#sk-container-id-25 div.sk-toggleable__content pre {margin: 0.2em;color: black;border-radius: 0.25em;background-color: #f0f8ff;}#sk-container-id-25 input.sk-toggleable__control:checked~div.sk-toggleable__content {max-height: 200px;max-width: 100%;overflow: auto;}#sk-container-id-25 input.sk-toggleable__control:checked~label.sk-toggleable__label-arrow:before {content: \"▾\";}#sk-container-id-25 div.sk-estimator input.sk-toggleable__control:checked~label.sk-toggleable__label {background-color: #d4ebff;}#sk-container-id-25 div.sk-label input.sk-toggleable__control:checked~label.sk-toggleable__label {background-color: #d4ebff;}#sk-container-id-25 input.sk-hidden--visually {border: 0;clip: rect(1px 1px 1px 1px);clip: rect(1px, 1px, 1px, 1px);height: 1px;margin: -1px;overflow: hidden;padding: 0;position: absolute;width: 1px;}#sk-container-id-25 div.sk-estimator {font-family: monospace;background-color: #f0f8ff;border: 1px dotted black;border-radius: 0.25em;box-sizing: border-box;margin-bottom: 0.5em;}#sk-container-id-25 div.sk-estimator:hover {background-color: #d4ebff;}#sk-container-id-25 div.sk-parallel-item::after {content: \"\";width: 100%;border-bottom: 1px solid gray;flex-grow: 1;}#sk-container-id-25 div.sk-label:hover label.sk-toggleable__label {background-color: #d4ebff;}#sk-container-id-25 div.sk-serial::before {content: \"\";position: absolute;border-left: 1px solid gray;box-sizing: border-box;top: 0;bottom: 0;left: 50%;z-index: 0;}#sk-container-id-25 div.sk-serial {display: flex;flex-direction: column;align-items: center;background-color: white;padding-right: 0.2em;padding-left: 0.2em;position: relative;}#sk-container-id-25 div.sk-item {position: relative;z-index: 1;}#sk-container-id-25 div.sk-parallel {display: flex;align-items: stretch;justify-content: center;background-color: white;position: relative;}#sk-container-id-25 div.sk-item::before, #sk-container-id-25 div.sk-parallel-item::before {content: \"\";position: absolute;border-left: 1px solid gray;box-sizing: border-box;top: 0;bottom: 0;left: 50%;z-index: -1;}#sk-container-id-25 div.sk-parallel-item {display: flex;flex-direction: column;z-index: 1;position: relative;background-color: white;}#sk-container-id-25 div.sk-parallel-item:first-child::after {align-self: flex-end;width: 50%;}#sk-container-id-25 div.sk-parallel-item:last-child::after {align-self: flex-start;width: 50%;}#sk-container-id-25 div.sk-parallel-item:only-child::after {width: 0;}#sk-container-id-25 div.sk-dashed-wrapped {border: 1px dashed gray;margin: 0 0.4em 0.5em 0.4em;box-sizing: border-box;padding-bottom: 0.4em;background-color: white;}#sk-container-id-25 div.sk-label label {font-family: monospace;font-weight: bold;display: inline-block;line-height: 1.2em;}#sk-container-id-25 div.sk-label-container {text-align: center;}#sk-container-id-25 div.sk-container {/* jupyter's `normalize.less` sets `[hidden] { display: none; }` but bootstrap.min.css set `[hidden] { display: none !important; }` so we also need the `!important` here to be able to override the default hidden behavior on the sphinx rendered scikit-learn.org. See: https://github.com/scikit-learn/scikit-learn/issues/21755 */display: inline-block !important;position: relative;}#sk-container-id-25 div.sk-text-repr-fallback {display: none;}</style><div id=\"sk-container-id-25\" class=\"sk-top-container\"><div class=\"sk-text-repr-fallback\"><pre>GridSearchCV(cv=5, estimator=LGBMClassifier(random_state=42),\n",
       "             param_grid={&#x27;boosting_type&#x27;: [&#x27;gbdt&#x27;], &#x27;colsample_bytree&#x27;: [0.5],\n",
       "                         &#x27;force_col_wise&#x27;: [True], &#x27;learning_rate&#x27;: [0.01],\n",
       "                         &#x27;max_depth&#x27;: [5], &#x27;metric&#x27;: [&#x27;auc&#x27;],\n",
       "                         &#x27;min_child_samples&#x27;: [15], &#x27;n_estimators&#x27;: [500],\n",
       "                         &#x27;n_jobs&#x27;: [-1], &#x27;num_leaves&#x27;: [15],\n",
       "                         &#x27;objective&#x27;: [&#x27;binary&#x27;], &#x27;random_state&#x27;: [42],\n",
       "                         &#x27;reg_alpha&#x27;: [0], &#x27;reg_lambda&#x27;: [0.001],\n",
       "                         &#x27;scale_pos_weight&#x27;: [7], &#x27;subsample&#x27;: [0.3],\n",
       "                         &#x27;subsample_freq&#x27;: [3], &#x27;verbose&#x27;: [-100]},\n",
       "             scoring=&#x27;roc_auc&#x27;, verbose=True)</pre><b>In a Jupyter environment, please rerun this cell to show the HTML representation or trust the notebook. <br />On GitHub, the HTML representation is unable to render, please try loading this page with nbviewer.org.</b></div><div class=\"sk-container\" hidden><div class=\"sk-item sk-dashed-wrapped\"><div class=\"sk-label-container\"><div class=\"sk-label sk-toggleable\"><input class=\"sk-toggleable__control sk-hidden--visually\" id=\"sk-estimator-id-73\" type=\"checkbox\" ><label for=\"sk-estimator-id-73\" class=\"sk-toggleable__label sk-toggleable__label-arrow\">GridSearchCV</label><div class=\"sk-toggleable__content\"><pre>GridSearchCV(cv=5, estimator=LGBMClassifier(random_state=42),\n",
       "             param_grid={&#x27;boosting_type&#x27;: [&#x27;gbdt&#x27;], &#x27;colsample_bytree&#x27;: [0.5],\n",
       "                         &#x27;force_col_wise&#x27;: [True], &#x27;learning_rate&#x27;: [0.01],\n",
       "                         &#x27;max_depth&#x27;: [5], &#x27;metric&#x27;: [&#x27;auc&#x27;],\n",
       "                         &#x27;min_child_samples&#x27;: [15], &#x27;n_estimators&#x27;: [500],\n",
       "                         &#x27;n_jobs&#x27;: [-1], &#x27;num_leaves&#x27;: [15],\n",
       "                         &#x27;objective&#x27;: [&#x27;binary&#x27;], &#x27;random_state&#x27;: [42],\n",
       "                         &#x27;reg_alpha&#x27;: [0], &#x27;reg_lambda&#x27;: [0.001],\n",
       "                         &#x27;scale_pos_weight&#x27;: [7], &#x27;subsample&#x27;: [0.3],\n",
       "                         &#x27;subsample_freq&#x27;: [3], &#x27;verbose&#x27;: [-100]},\n",
       "             scoring=&#x27;roc_auc&#x27;, verbose=True)</pre></div></div></div><div class=\"sk-parallel\"><div class=\"sk-parallel-item\"><div class=\"sk-item\"><div class=\"sk-label-container\"><div class=\"sk-label sk-toggleable\"><input class=\"sk-toggleable__control sk-hidden--visually\" id=\"sk-estimator-id-74\" type=\"checkbox\" ><label for=\"sk-estimator-id-74\" class=\"sk-toggleable__label sk-toggleable__label-arrow\">estimator: LGBMClassifier</label><div class=\"sk-toggleable__content\"><pre>LGBMClassifier(random_state=42)</pre></div></div></div><div class=\"sk-serial\"><div class=\"sk-item\"><div class=\"sk-estimator sk-toggleable\"><input class=\"sk-toggleable__control sk-hidden--visually\" id=\"sk-estimator-id-75\" type=\"checkbox\" ><label for=\"sk-estimator-id-75\" class=\"sk-toggleable__label sk-toggleable__label-arrow\">LGBMClassifier</label><div class=\"sk-toggleable__content\"><pre>LGBMClassifier(random_state=42)</pre></div></div></div></div></div></div></div></div></div></div>"
      ],
      "text/plain": [
       "GridSearchCV(cv=5, estimator=LGBMClassifier(random_state=42),\n",
       "             param_grid={'boosting_type': ['gbdt'], 'colsample_bytree': [0.5],\n",
       "                         'force_col_wise': [True], 'learning_rate': [0.01],\n",
       "                         'max_depth': [5], 'metric': ['auc'],\n",
       "                         'min_child_samples': [15], 'n_estimators': [500],\n",
       "                         'n_jobs': [-1], 'num_leaves': [15],\n",
       "                         'objective': ['binary'], 'random_state': [42],\n",
       "                         'reg_alpha': [0], 'reg_lambda': [0.001],\n",
       "                         'scale_pos_weight': [7], 'subsample': [0.3],\n",
       "                         'subsample_freq': [3], 'verbose': [-100]},\n",
       "             scoring='roc_auc', verbose=True)"
      ]
     },
     "execution_count": 93,
     "metadata": {},
     "output_type": "execute_result"
    }
   ],
   "source": [
    "grid_lgbm.fit(X,y)"
   ]
  },
  {
   "cell_type": "code",
   "execution_count": 94,
   "metadata": {},
   "outputs": [
    {
     "name": "stdout",
     "output_type": "stream",
     "text": [
      "{'boosting_type': 'gbdt', 'colsample_bytree': 0.5, 'force_col_wise': True, 'learning_rate': 0.01, 'max_depth': 5, 'metric': 'auc', 'min_child_samples': 15, 'n_estimators': 500, 'n_jobs': -1, 'num_leaves': 15, 'objective': 'binary', 'random_state': 42, 'reg_alpha': 0, 'reg_lambda': 0.001, 'scale_pos_weight': 7, 'subsample': 0.3, 'subsample_freq': 3, 'verbose': -100}\n",
      "0.836610112230875\n"
     ]
    }
   ],
   "source": [
    "print(grid_lgbm.best_params_)\n",
    "print(grid_lgbm.best_score_)"
   ]
  },
  {
   "cell_type": "code",
   "execution_count": 95,
   "metadata": {},
   "outputs": [],
   "source": [
    "best_lgbm = grid_lgbm.best_estimator_"
   ]
  },
  {
   "cell_type": "code",
   "execution_count": 98,
   "metadata": {},
   "outputs": [
    {
     "name": "stdout",
     "output_type": "stream",
     "text": [
      "Average accuracy score of 5 is : 0.8712\n",
      "Average f1 score of 5 is       : 0.4644\n",
      "Average roc score of 5 is      : 0.8266\n",
      "--------------------------------------------------------------------------------\n",
      "Average accuracy score of 5 is : 0.7953\n",
      "Average f1 score of 5 is       : 0.7719\n",
      "Average roc score of 5 is      : 0.9535\n"
     ]
    }
   ],
   "source": [
    "cross_validation(X,y,best_lgbm,5, None)\n",
    "print(\"-\"*80)\n",
    "cross_validation(Xd,yd,best_lgbm,5, None)"
   ]
  },
  {
   "cell_type": "code",
   "execution_count": 103,
   "metadata": {},
   "outputs": [
    {
     "name": "stdout",
     "output_type": "stream",
     "text": [
      "Average accuracy score of 5 is : 0.8712\n",
      "Average f1 score of 5 is       : 0.4644\n",
      "Average roc score of 5 is      : 0.8266\n"
     ]
    }
   ],
   "source": [
    "val = cross_validation(X,y,best_lgbm,5, xtest=xtest)"
   ]
  },
  {
   "cell_type": "code",
   "execution_count": 104,
   "metadata": {},
   "outputs": [],
   "source": [
    "samp_sub = pd.read_csv(\"dataset/sample_submission.csv\")\n",
    "samp_sub[\"Attrition\"] = val\n",
    "samp_sub.to_csv(\"est_sub_lgb_param_cv.csv\", index=False)"
   ]
  },
  {
   "cell_type": "code",
   "execution_count": null,
   "metadata": {},
   "outputs": [],
   "source": []
  }
 ],
 "metadata": {
  "kernelspec": {
   "display_name": "base",
   "language": "python",
   "name": "python3"
  },
  "language_info": {
   "codemirror_mode": {
    "name": "ipython",
    "version": 3
   },
   "file_extension": ".py",
   "mimetype": "text/x-python",
   "name": "python",
   "nbconvert_exporter": "python",
   "pygments_lexer": "ipython3",
   "version": "3.11.5"
  }
 },
 "nbformat": 4,
 "nbformat_minor": 2
}
